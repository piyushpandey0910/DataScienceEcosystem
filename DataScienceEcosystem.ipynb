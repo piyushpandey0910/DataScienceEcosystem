{
  "nbformat": 4,
  "nbformat_minor": 0,
  "metadata": {
    "colab": {
      "provenance": []
    },
    "kernelspec": {
      "name": "python3",
      "display_name": "Python 3"
    },
    "language_info": {
      "name": "python"
    }
  },
  "cells": [
    {
      "cell_type": "markdown",
      "source": [
        "<h1>Data Science Tools and Ecosystem</h1>"
      ],
      "metadata": {
        "id": "xBxq21wKCnWS"
      }
    },
    {
      "cell_type": "markdown",
      "source": [
        "In this notebook, Data Science Tools and Ecosystem are summarized."
      ],
      "metadata": {
        "id": "fqdSJZivCySn"
      }
    },
    {
      "cell_type": "markdown",
      "source": [
        "<p><b>Objectives:</b></p>\n",
        "<ul>\n",
        "  <li>List popular languages for Data Science</li>\n",
        "  <li>List commonly used libraries for Data Science</li>\n",
        "  <li>Create tables in Markdown</li>\n",
        "  <li>Perform simple arithmetic operations in Python</li>\n",
        "  <li>Share Jupyter Notebooks via GitHub</li>\n",
        "</ul>"
      ],
      "metadata": {
        "id": "u-5f58opFF06"
      }
    },
    {
      "cell_type": "markdown",
      "source": [
        "Some of the popular languages that Data Scientists use are:\n",
        "<ol>\n",
        "        <li>R</li>\n",
        "        <li>Python</li>\n",
        "        <li>SQL</li>\n",
        "    </ol>"
      ],
      "metadata": {
        "id": "bmI9D1WwDK6l"
      }
    },
    {
      "cell_type": "markdown",
      "source": [
        "Some of the commonly used libraries used by Data Scientists include:\n",
        "<ol>\n",
        "        <li>matplotlib</li>\n",
        "        <li>numpy</li>\n",
        "        <li>ggplot</li>\n",
        "    </ol>"
      ],
      "metadata": {
        "id": "4MvYtnHRDfs9"
      }
    },
    {
      "cell_type": "markdown",
      "source": [
        "| Data Science Tools |\n",
        "|---------------------|\n",
        "| Jupyter Notebook    |\n",
        "| RStudio             |\n",
        "| VS Code             |\n"
      ],
      "metadata": {
        "id": "xTQ2xkNkDy4d"
      }
    },
    {
      "cell_type": "markdown",
      "source": [
        "<h3>Below are a few examples of evaluating arithmetic expressions in Python</h3>"
      ],
      "metadata": {
        "id": "3tyMjt2_EBU9"
      }
    },
    {
      "cell_type": "code",
      "source": [
        "#This a simple arithmetic expression to mutiply then add integers\n",
        "(3*4)+5"
      ],
      "metadata": {
        "colab": {
          "base_uri": "https://localhost:8080/"
        },
        "id": "Xa9o_MPYEPU3",
        "outputId": "9d96c0e5-1dea-47b4-d4bf-231a390cbb1d"
      },
      "execution_count": 5,
      "outputs": [
        {
          "output_type": "execute_result",
          "data": {
            "text/plain": [
              "17"
            ]
          },
          "metadata": {},
          "execution_count": 5
        }
      ]
    },
    {
      "cell_type": "code",
      "source": [
        "#This will convert 200 minutes to hours by diving by 60\n",
        "200/60"
      ],
      "metadata": {
        "colab": {
          "base_uri": "https://localhost:8080/"
        },
        "id": "b5HewPr2Ev6B",
        "outputId": "4b3786c7-3c55-4636-810e-de19c6dc5745"
      },
      "execution_count": 6,
      "outputs": [
        {
          "output_type": "execute_result",
          "data": {
            "text/plain": [
              "3.3333333333333335"
            ]
          },
          "metadata": {},
          "execution_count": 6
        }
      ]
    },
    {
      "cell_type": "markdown",
      "source": [
        "<h2>Author</h2>\n",
        "<p>Piyush Pandey</p>\n"
      ],
      "metadata": {
        "id": "4HWc0LLoEMC8"
      }
    }
  ]
}